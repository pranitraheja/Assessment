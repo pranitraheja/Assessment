{
 "cells": [
  {
   "cell_type": "code",
   "execution_count": 1,
   "id": "80cbdb36",
   "metadata": {},
   "outputs": [],
   "source": [
    "import pandas as pd\n",
    "import numpy as np\n",
    "import matplotlib.pyplot as plt\n",
    "import seaborn as sns\n",
    "import json"
   ]
  },
  {
   "cell_type": "code",
   "execution_count": 5,
   "id": "e361a9a6",
   "metadata": {},
   "outputs": [],
   "source": [
    "with open(\"C:/Users/91805/Documents/Python Scripts/Assessment/DT A1 sample_json.json\") as f:\n",
    "    data = json.load(f)"
   ]
  },
  {
   "cell_type": "code",
   "execution_count": 6,
   "id": "41673197",
   "metadata": {},
   "outputs": [
    {
     "data": {
      "text/plain": [
       "{'web-app': {'servlet': [{'servlet-name': 'cofaxCDS',\n",
       "    'servlet-class': 'org.cofax.cds.CDSServlet',\n",
       "    'init-param': {'configGlossary:installationAt': 'Philadelphia, PA',\n",
       "     'configGlossary:adminEmail': 'ksm@pobox.com',\n",
       "     'configGlossary:poweredBy': 'Cofax',\n",
       "     'configGlossary:poweredByIcon': '/images/cofax.gif',\n",
       "     'configGlossary:staticPath': '/content/static',\n",
       "     'templateProcessorClass': 'org.cofax.WysiwygTemplate',\n",
       "     'templateLoaderClass': 'org.cofax.FilesTemplateLoader',\n",
       "     'templatePath': 'templates',\n",
       "     'templateOverridePath': '',\n",
       "     'defaultListTemplate': 'listTemplate.htm',\n",
       "     'defaultFileTemplate': 'articleTemplate.htm',\n",
       "     'useJSP': 'false',\n",
       "     'jspListTemplate': 'listTemplate.jsp',\n",
       "     'jspFileTemplate': 'articleTemplate.jsp',\n",
       "     'cachePackageTagsTrack': 200,\n",
       "     'cachePackageTagsStore': 200,\n",
       "     'cachePackageTagsRefresh': 60,\n",
       "     'cacheTemplatesTrack': 100,\n",
       "     'cacheTemplatesStore': 50,\n",
       "     'cacheTemplatesRefresh': 15,\n",
       "     'cachePagesTrack': 200,\n",
       "     'cachePagesStore': 100,\n",
       "     'cachePagesRefresh': 10,\n",
       "     'cachePagesDirtyRead': 10,\n",
       "     'searchEngineListTemplate': 'forSearchEnginesList.htm',\n",
       "     'searchEngineFileTemplate': 'forSearchEngines.htm',\n",
       "     'searchEngineRobotsDb': 'WEB-INF/robots.db',\n",
       "     'useDataStore': 'true',\n",
       "     'dataStoreClass': 'org.cofax.SqlDataStore',\n",
       "     'redirectionClass': 'org.cofax.SqlRedirection',\n",
       "     'dataStoreName': 'cofax',\n",
       "     'dataStoreDriver': 'com.microsoft.jdbc.sqlserver.SQLServerDriver',\n",
       "     'dataStoreUrl': 'jdbc:microsoft:sqlserver://LOCALHOST:1433;DatabaseName=goon',\n",
       "     'dataStoreUser': 'sa',\n",
       "     'dataStorePassword': 'dataStoreTestQuery',\n",
       "     'dataStoreTestQuery': \"SET NOCOUNT ON;select test='test';\",\n",
       "     'dataStoreLogFile': '/usr/local/tomcat/logs/datastore.log',\n",
       "     'dataStoreInitConns': 10,\n",
       "     'dataStoreMaxConns': 100,\n",
       "     'dataStoreConnUsageLimit': 100,\n",
       "     'dataStoreLogLevel': 'debug',\n",
       "     'maxUrlLength': 500}},\n",
       "   {'servlet-name': 'cofaxEmail',\n",
       "    'servlet-class': 'org.cofax.cds.EmailServlet',\n",
       "    'init-param': {'mailHost': 'mail1', 'mailHostOverride': 'mail2'}},\n",
       "   {'servlet-name': 'cofaxAdmin',\n",
       "    'servlet-class': 'org.cofax.cds.AdminServlet'},\n",
       "   {'servlet-name': 'fileServlet',\n",
       "    'servlet-class': 'org.cofax.cds.FileServlet'},\n",
       "   {'servlet-name': 'cofaxTools',\n",
       "    'servlet-class': 'org.cofax.cms.CofaxToolsServlet',\n",
       "    'init-param': {'templatePath': 'toolstemplates/',\n",
       "     'log': 1,\n",
       "     'logLocation': '/usr/local/tomcat/logs/CofaxTools.log',\n",
       "     'logMaxSize': '',\n",
       "     'dataLog': 1,\n",
       "     'dataLogLocation': '/usr/local/tomcat/logs/dataLog.log',\n",
       "     'dataLogMaxSize': '',\n",
       "     'removePageCache': '/content/admin/remove?cache=pages&id=',\n",
       "     'removeTemplateCache': '/content/admin/remove?cache=templates&id=',\n",
       "     'fileTransferFolder': '/usr/local/tomcat/webapps/content/fileTransferFolder',\n",
       "     'lookInContext': 1,\n",
       "     'adminGroupID': 4,\n",
       "     'betaServer': 'true'}}],\n",
       "  'servlet-mapping': {'cofaxCDS': '/',\n",
       "   'cofaxEmail': '/cofaxutil/aemail/*',\n",
       "   'cofaxAdmin': '/admin/*',\n",
       "   'fileServlet': '/static/*',\n",
       "   'cofaxTools': '/tools/*'},\n",
       "  'taglib': {'taglib-uri': 'cofax.tld',\n",
       "   'taglib-location': '/WEB-INF/tlds/cofax.tld'}}}"
      ]
     },
     "execution_count": 6,
     "metadata": {},
     "output_type": "execute_result"
    }
   ],
   "source": [
    "data"
   ]
  },
  {
   "cell_type": "code",
   "execution_count": 12,
   "id": "c74212ca",
   "metadata": {},
   "outputs": [
    {
     "name": "stdout",
     "output_type": "stream",
     "text": [
      "JSON Data:\n",
      "{'web-app': {'servlet': [{'servlet-name': 'cofaxCDS', 'servlet-class': 'org.cofax.cds.CDSServlet', 'init-param': {'configGlossary:installationAt': 'Philadelphia, PA', 'configGlossary:adminEmail': 'ksm@pobox.com', 'configGlossary:poweredBy': 'Cofax', 'configGlossary:poweredByIcon': '/images/cofax.gif', 'configGlossary:staticPath': '/content/static', 'templateProcessorClass': 'org.cofax.WysiwygTemplate', 'templateLoaderClass': 'org.cofax.FilesTemplateLoader', 'templatePath': 'templates', 'templateOverridePath': '', 'defaultListTemplate': 'listTemplate.htm', 'defaultFileTemplate': 'articleTemplate.htm', 'useJSP': 'false', 'jspListTemplate': 'listTemplate.jsp', 'jspFileTemplate': 'articleTemplate.jsp', 'cachePackageTagsTrack': 200, 'cachePackageTagsStore': 200, 'cachePackageTagsRefresh': 60, 'cacheTemplatesTrack': 100, 'cacheTemplatesStore': 50, 'cacheTemplatesRefresh': 15, 'cachePagesTrack': 200, 'cachePagesStore': 100, 'cachePagesRefresh': 10, 'cachePagesDirtyRead': 10, 'searchEngineListTemplate': 'forSearchEnginesList.htm', 'searchEngineFileTemplate': 'forSearchEngines.htm', 'searchEngineRobotsDb': 'WEB-INF/robots.db', 'useDataStore': 'true', 'dataStoreClass': 'org.cofax.SqlDataStore', 'redirectionClass': 'org.cofax.SqlRedirection', 'dataStoreName': 'cofax', 'dataStoreDriver': 'com.microsoft.jdbc.sqlserver.SQLServerDriver', 'dataStoreUrl': 'jdbc:microsoft:sqlserver://LOCALHOST:1433;DatabaseName=goon', 'dataStoreUser': 'sa', 'dataStorePassword': 'dataStoreTestQuery', 'dataStoreTestQuery': \"SET NOCOUNT ON;select test='test';\", 'dataStoreLogFile': '/usr/local/tomcat/logs/datastore.log', 'dataStoreInitConns': 10, 'dataStoreMaxConns': 100, 'dataStoreConnUsageLimit': 100, 'dataStoreLogLevel': 'debug', 'maxUrlLength': 500}}, {'servlet-name': 'cofaxEmail', 'servlet-class': 'org.cofax.cds.EmailServlet', 'init-param': {'mailHost': 'mail1', 'mailHostOverride': 'mail2'}}, {'servlet-name': 'cofaxAdmin', 'servlet-class': 'org.cofax.cds.AdminServlet'}, {'servlet-name': 'fileServlet', 'servlet-class': 'org.cofax.cds.FileServlet'}, {'servlet-name': 'cofaxTools', 'servlet-class': 'org.cofax.cms.CofaxToolsServlet', 'init-param': {'templatePath': 'toolstemplates/', 'log': 1, 'logLocation': '/usr/local/tomcat/logs/CofaxTools.log', 'logMaxSize': '', 'dataLog': 1, 'dataLogLocation': '/usr/local/tomcat/logs/dataLog.log', 'dataLogMaxSize': '', 'removePageCache': '/content/admin/remove?cache=pages&id=', 'removeTemplateCache': '/content/admin/remove?cache=templates&id=', 'fileTransferFolder': '/usr/local/tomcat/webapps/content/fileTransferFolder', 'lookInContext': 1, 'adminGroupID': 4, 'betaServer': 'true'}}], 'servlet-mapping': {'cofaxCDS': '/', 'cofaxEmail': '/cofaxutil/aemail/*', 'cofaxAdmin': '/admin/*', 'fileServlet': '/static/*', 'cofaxTools': '/tools/*'}, 'taglib': {'taglib-uri': 'cofax.tld', 'taglib-location': '/WEB-INF/tlds/cofax.tld'}}}\n"
     ]
    }
   ],
   "source": [
    "# Print the entire JSON data\n",
    "print(\"JSON Data:\")\n",
    "print(data)"
   ]
  },
  {
   "cell_type": "code",
   "execution_count": 17,
   "id": "de0133e6",
   "metadata": {},
   "outputs": [
    {
     "name": "stdout",
     "output_type": "stream",
     "text": [
      "Number of rows in the JSON file: 1\n"
     ]
    }
   ],
   "source": [
    "if isinstance(data, list):\n",
    "    num_rows = len(data)\n",
    "    print(f\"Number of rows in the JSON file: {num_rows}\")\n",
    "elif isinstance(data, dict):\n",
    "    num_rows = len(data.keys())\n",
    "    print(f\"Number of rows in the JSON file: {num_rows}\")\n",
    "else:\n",
    "    print(\"JSON data is not in the expected format.\")"
   ]
  },
  {
   "cell_type": "code",
   "execution_count": 19,
   "id": "10eb1b33",
   "metadata": {},
   "outputs": [
    {
     "name": "stdout",
     "output_type": "stream",
     "text": [
      "Contents of the JSON file:\n",
      "{'web-app': {'servlet': [{'servlet-name': 'cofaxCDS', 'servlet-class': 'org.cofax.cds.CDSServlet', 'init-param': {'configGlossary:installationAt': 'Philadelphia, PA', 'configGlossary:adminEmail': 'ksm@pobox.com', 'configGlossary:poweredBy': 'Cofax', 'configGlossary:poweredByIcon': '/images/cofax.gif', 'configGlossary:staticPath': '/content/static', 'templateProcessorClass': 'org.cofax.WysiwygTemplate', 'templateLoaderClass': 'org.cofax.FilesTemplateLoader', 'templatePath': 'templates', 'templateOverridePath': '', 'defaultListTemplate': 'listTemplate.htm', 'defaultFileTemplate': 'articleTemplate.htm', 'useJSP': 'false', 'jspListTemplate': 'listTemplate.jsp', 'jspFileTemplate': 'articleTemplate.jsp', 'cachePackageTagsTrack': 200, 'cachePackageTagsStore': 200, 'cachePackageTagsRefresh': 60, 'cacheTemplatesTrack': 100, 'cacheTemplatesStore': 50, 'cacheTemplatesRefresh': 15, 'cachePagesTrack': 200, 'cachePagesStore': 100, 'cachePagesRefresh': 10, 'cachePagesDirtyRead': 10, 'searchEngineListTemplate': 'forSearchEnginesList.htm', 'searchEngineFileTemplate': 'forSearchEngines.htm', 'searchEngineRobotsDb': 'WEB-INF/robots.db', 'useDataStore': 'true', 'dataStoreClass': 'org.cofax.SqlDataStore', 'redirectionClass': 'org.cofax.SqlRedirection', 'dataStoreName': 'cofax', 'dataStoreDriver': 'com.microsoft.jdbc.sqlserver.SQLServerDriver', 'dataStoreUrl': 'jdbc:microsoft:sqlserver://LOCALHOST:1433;DatabaseName=goon', 'dataStoreUser': 'sa', 'dataStorePassword': 'dataStoreTestQuery', 'dataStoreTestQuery': \"SET NOCOUNT ON;select test='test';\", 'dataStoreLogFile': '/usr/local/tomcat/logs/datastore.log', 'dataStoreInitConns': 10, 'dataStoreMaxConns': 100, 'dataStoreConnUsageLimit': 100, 'dataStoreLogLevel': 'debug', 'maxUrlLength': 500}}, {'servlet-name': 'cofaxEmail', 'servlet-class': 'org.cofax.cds.EmailServlet', 'init-param': {'mailHost': 'mail1', 'mailHostOverride': 'mail2'}}, {'servlet-name': 'cofaxAdmin', 'servlet-class': 'org.cofax.cds.AdminServlet'}, {'servlet-name': 'fileServlet', 'servlet-class': 'org.cofax.cds.FileServlet'}, {'servlet-name': 'cofaxTools', 'servlet-class': 'org.cofax.cms.CofaxToolsServlet', 'init-param': {'templatePath': 'toolstemplates/', 'log': 1, 'logLocation': '/usr/local/tomcat/logs/CofaxTools.log', 'logMaxSize': '', 'dataLog': 1, 'dataLogLocation': '/usr/local/tomcat/logs/dataLog.log', 'dataLogMaxSize': '', 'removePageCache': '/content/admin/remove?cache=pages&id=', 'removeTemplateCache': '/content/admin/remove?cache=templates&id=', 'fileTransferFolder': '/usr/local/tomcat/webapps/content/fileTransferFolder', 'lookInContext': 1, 'adminGroupID': 4, 'betaServer': 'true'}}], 'servlet-mapping': {'cofaxCDS': '/', 'cofaxEmail': '/cofaxutil/aemail/*', 'cofaxAdmin': '/admin/*', 'fileServlet': '/static/*', 'cofaxTools': '/tools/*'}, 'taglib': {'taglib-uri': 'cofax.tld', 'taglib-location': '/WEB-INF/tlds/cofax.tld'}}}\n"
     ]
    }
   ],
   "source": [
    "if isinstance(data, dict):\n",
    "    print(\"Contents of the JSON file:\")\n",
    "    print(data)\n",
    "else:\n",
    "    print(\"JSON data is not in the expected format.\")"
   ]
  },
  {
   "cell_type": "markdown",
   "id": "f8a5f329",
   "metadata": {},
   "source": [
    "## The above json file is dictionary"
   ]
  },
  {
   "cell_type": "markdown",
   "id": "e47ad123",
   "metadata": {},
   "source": [
    "## 1) Data Cleaning"
   ]
  },
  {
   "cell_type": "markdown",
   "id": "156c0308",
   "metadata": {},
   "source": [
    "### a) Check for missing values"
   ]
  },
  {
   "cell_type": "code",
   "execution_count": 26,
   "id": "0bab3676",
   "metadata": {},
   "outputs": [
    {
     "name": "stdout",
     "output_type": "stream",
     "text": [
      "No missing values found in the JSON data.\n"
     ]
    }
   ],
   "source": [
    "missing_values = False\n",
    "for key, value in data.items():\n",
    "    if value is None:\n",
    "        print(f\"Missing value for key: {key}\")\n",
    "        missing_values = True\n",
    "\n",
    "if not missing_values:\n",
    "    print(\"No missing values found in the JSON data.\")"
   ]
  },
  {
   "cell_type": "markdown",
   "id": "083e07a8",
   "metadata": {},
   "source": [
    "### b) Check for duplicates"
   ]
  },
  {
   "cell_type": "code",
   "execution_count": 27,
   "id": "01c99a9b",
   "metadata": {},
   "outputs": [
    {
     "name": "stdout",
     "output_type": "stream",
     "text": [
      "No duplicate keys found in the JSON data.\n"
     ]
    }
   ],
   "source": [
    "if isinstance(data, list):\n",
    "    num_rows = len(data)\n",
    "    num_unique_rows = len(set(map(tuple, data)))\n",
    "    if num_rows != num_unique_rows:\n",
    "        print(\"Duplicate rows found in the JSON data.\")\n",
    "    else:\n",
    "        print(\"No duplicate rows found in the JSON data.\")\n",
    "elif isinstance(data, dict):\n",
    "    num_keys = len(data.keys())\n",
    "    num_unique_keys = len(set(data.keys()))\n",
    "    if num_keys != num_unique_keys:\n",
    "        print(\"Duplicate keys found in the JSON data.\")\n",
    "    else:\n",
    "        print(\"No duplicate keys found in the JSON data.\")\n",
    "else:\n",
    "    print(\"JSON data is not in the expected format.\")"
   ]
  },
  {
   "cell_type": "markdown",
   "id": "6267d3ed",
   "metadata": {},
   "source": [
    "### c) Check for special characters"
   ]
  },
  {
   "cell_type": "code",
   "execution_count": 28,
   "id": "e7342c12",
   "metadata": {},
   "outputs": [
    {
     "name": "stdout",
     "output_type": "stream",
     "text": [
      "No special characters found in the JSON data.\n"
     ]
    }
   ],
   "source": [
    "def has_special_characters(string):\n",
    "    # Define a set of allowed characters (alphanumeric and punctuation)\n",
    "    allowed_characters = set('abcdefghijklmnopqrstuvwxyzABCDEFGHIJKLMNOPQRSTUVWXYZ0123456789!\"#$%&\\'()*+,-./:;<=>?@[\\\\]^_`{|}~ ')\n",
    "    # Check if any character in the string is not in the set of allowed characters\n",
    "    return any(char not in allowed_characters for char in string)\n",
    "# Check for special characters in the JSON data\n",
    "special_characters_found = False\n",
    "for key, value in data.items():\n",
    "    if isinstance(value, str):\n",
    "        if has_special_characters(value):\n",
    "            print(f\"Special characters found in value for key '{key}': '{value}'\")\n",
    "            special_characters_found = True\n",
    "\n",
    "if not special_characters_found:\n",
    "    print(\"No special characters found in the JSON data.\")"
   ]
  },
  {
   "cell_type": "markdown",
   "id": "514b577c",
   "metadata": {},
   "source": [
    "### d) Check for Null Values"
   ]
  },
  {
   "cell_type": "code",
   "execution_count": 29,
   "id": "d7207e00",
   "metadata": {},
   "outputs": [
    {
     "name": "stdout",
     "output_type": "stream",
     "text": [
      "Null values filled with: desired_value\n"
     ]
    }
   ],
   "source": [
    "# Function to recursively fill null values\n",
    "def fill_null_values(obj, fill_value):\n",
    "    if isinstance(obj, dict):\n",
    "        for key, value in obj.items():\n",
    "            obj[key] = fill_null_values(value, fill_value)\n",
    "        return obj\n",
    "    elif isinstance(obj, list):\n",
    "        return [fill_null_values(item, fill_value) for item in obj]\n",
    "    elif obj is None:\n",
    "        return fill_value\n",
    "    else:\n",
    "        return obj\n",
    "\n",
    "# Check for null values in the JSON data and fill them with a desired value\n",
    "fill_value = \"desired_value\"  # Replace 'desired_value' with the value you want to fill\n",
    "data_filled = fill_null_values(data, fill_value)\n",
    "\n",
    "# Save the updated JSON data back to the file\n",
    "with open('data_filled.json', 'w') as f:\n",
    "    json.dump(data_filled, f, indent=4)\n",
    "    print(\"Null values filled with:\", fill_value)"
   ]
  },
  {
   "cell_type": "markdown",
   "id": "8971e856",
   "metadata": {},
   "source": [
    "### e) Check the data type"
   ]
  },
  {
   "cell_type": "code",
   "execution_count": 34,
   "id": "e5279c9d",
   "metadata": {},
   "outputs": [
    {
     "name": "stdout",
     "output_type": "stream",
     "text": [
      "str: 56\n",
      "int: 18\n",
      "float: 0\n",
      "bool: 0\n",
      "NoneType: 0\n"
     ]
    }
   ],
   "source": [
    "def count_data_types(obj, type_counts):\n",
    "    if isinstance(obj, dict):\n",
    "        for key, value in obj.items():\n",
    "            count_data_types(value, type_counts)\n",
    "    elif isinstance(obj, list):\n",
    "        for item in obj:\n",
    "            count_data_types(item, type_counts)\n",
    "    else:\n",
    "        data_type = type(obj).__name__\n",
    "        type_counts[data_type] += 1\n",
    "\n",
    "# Dictionary to store counts of each data type\n",
    "type_counts = {\n",
    "    \"str\": 0,\n",
    "    \"int\": 0,\n",
    "    \"float\": 0,\n",
    "    \"bool\": 0,\n",
    "    \"NoneType\": 0,\n",
    "    # Add more data types as needed\n",
    "}\n",
    "\n",
    "# Call the function to count data types\n",
    "count_data_types(data, type_counts)\n",
    "\n",
    "# Print the counts of each data type\n",
    "for data_type, count in type_counts.items():\n",
    "    print(f\"{data_type}: {count}\")"
   ]
  },
  {
   "cell_type": "markdown",
   "id": "b5e1dae9",
   "metadata": {},
   "source": [
    "## 3) Given a list of non negative integers, arrange them such that they form the largest number."
   ]
  },
  {
   "cell_type": "code",
   "execution_count": 43,
   "id": "9410ee75",
   "metadata": {},
   "outputs": [
    {
     "name": "stdout",
     "output_type": "stream",
     "text": [
      "Largest number formed: web-app\n"
     ]
    }
   ],
   "source": [
    "def largest_number(nums):\n",
    "    # Convert numbers to strings for comparison\n",
    "    nums = [str(num) for num in nums]\n",
    "    \n",
    "    # Custom comparison function for sorting\n",
    "    def compare(a, b):\n",
    "        return int(b + a) - int(a + b)\n",
    "    \n",
    "    # Sort the numbers using the custom comparison function\n",
    "    nums.sort(key=lambda x: (x, x[::-1]), reverse=True)\n",
    "    \n",
    "    # Concatenate sorted numbers into a single string\n",
    "    largest_num = ''.join(nums)\n",
    "    \n",
    "    return largest_num\n",
    "\n",
    "with open(\"C:/Users/91805/Documents/Python Scripts/Assessment/DT A1 sample_json.json\") as f:\n",
    "    nums = json.load(f)\n",
    "\n",
    "# Check if the list is empty\n",
    "if not nums:\n",
    "    print(\"List is empty.\")\n",
    "else:\n",
    "    # Arrange the numbers to form the largest number\n",
    "    largest_num = largest_number(nums)\n",
    "    print(\"Largest number formed:\", largest_num)"
   ]
  },
  {
   "cell_type": "markdown",
   "id": "eb6affce",
   "metadata": {},
   "source": [
    "## 2) Given an unsorted array of integers, find the length of the longest continuous increasing subsequence (subarray). "
   ]
  },
  {
   "cell_type": "code",
   "execution_count": 54,
   "id": "963ba7c7",
   "metadata": {},
   "outputs": [
    {
     "name": "stdout",
     "output_type": "stream",
     "text": [
      "Length of the longest continuous increasing subsequence: 1\n"
     ]
    }
   ],
   "source": [
    "def longest_continuous_increasing_subsequence(file_path):\n",
    "    # Read array\n",
    "    with open(file_path) as f:\n",
    "        array = json.load(f)\n",
    "\n",
    "    if not array:\n",
    "        return 0\n",
    "\n",
    "    max_length = 1\n",
    "    current_length = 1\n",
    "\n",
    "    for i in range(1, len(array)):\n",
    "        if array[i] > array[i - 1]:\n",
    "            current_length += 1\n",
    "        else:\n",
    "            max_length = max(max_length, current_length)\n",
    "            current_length = 1\n",
    "\n",
    "    max_length = max(max_length, current_length)\n",
    "\n",
    "    return max_length\n",
    "\n",
    "file_path = \"C:/Users/91805/Documents/Python Scripts/Assessment/DT A1 sample_json.json\"\n",
    "length = longest_continuous_increasing_subsequence(file_path)\n",
    "print(\"Length of the longest continuous increasing subsequence:\", length)"
   ]
  },
  {
   "cell_type": "markdown",
   "id": "1d89622c",
   "metadata": {},
   "source": [
    "## 4) Store all the \"servlet-name\", and \"servlet-class\" to a csv file from the attached sample_json.json file using Python."
   ]
  },
  {
   "cell_type": "code",
   "execution_count": 56,
   "id": "cb1b2878",
   "metadata": {},
   "outputs": [],
   "source": [
    "import csv\n",
    "\n",
    "with open(\"C:/Users/91805/Documents/Python Scripts/Assessment/DT A1 sample_json.json\") as f:\n",
    "    data = json.load(f)\n",
    "\n",
    "# Extract the \"servlet\" information\n",
    "servlet_data = data[\"web-app\"][\"servlet\"]\n",
    "\n",
    "# Define the CSV file and headers\n",
    "csv_file = open('servlet_data.csv', 'w', newline='')\n",
    "csv_writer = csv.writer(csv_file)\n",
    "csv_writer.writerow(['servlet-name', 'servlet-class'])\n",
    "\n",
    "# Write the servlet data to the CSV file\n",
    "for servlet in servlet_data:\n",
    "    servlet_name = servlet[\"servlet-name\"]\n",
    "    servlet_class = servlet[\"servlet-class\"]\n",
    "    csv_writer.writerow([servlet_name, servlet_class])\n",
    "\n",
    "# Close the CSV file\n",
    "csv_file.close()"
   ]
  }
 ],
 "metadata": {
  "kernelspec": {
   "display_name": "Python 3 (ipykernel)",
   "language": "python",
   "name": "python3"
  },
  "language_info": {
   "codemirror_mode": {
    "name": "ipython",
    "version": 3
   },
   "file_extension": ".py",
   "mimetype": "text/x-python",
   "name": "python",
   "nbconvert_exporter": "python",
   "pygments_lexer": "ipython3",
   "version": "3.9.13"
  }
 },
 "nbformat": 4,
 "nbformat_minor": 5
}
